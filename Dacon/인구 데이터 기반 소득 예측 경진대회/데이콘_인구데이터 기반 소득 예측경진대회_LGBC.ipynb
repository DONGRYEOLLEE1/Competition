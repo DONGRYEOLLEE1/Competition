{
 "cells": [
  {
   "cell_type": "code",
   "execution_count": 40,
   "id": "7c12bf19",
   "metadata": {},
   "outputs": [],
   "source": [
    "import numpy as np\n",
    "import pandas as pd\n",
    "import matplotlib.pyplot as plt\n",
    "plt.style.use('seaborn-white')\n",
    "\n",
    "from sklearn.preprocessing import LabelEncoder, StandardScaler, MinMaxScaler, RobustScaler\n",
    "from sklearn.model_selection import train_test_split\n",
    "from sklearn.metrics import accuracy_score, precision_score, recall_score\n",
    "from sklearn.model_selection import RandomizedSearchCV, GridSearchCV, StratifiedKFold\n",
    "\n",
    "from lightgbm import LGBMClassifier"
   ]
  },
  {
   "cell_type": "code",
   "execution_count": 11,
   "id": "232b4cd2",
   "metadata": {},
   "outputs": [
    {
     "data": {
      "text/html": [
       "<div>\n",
       "<style scoped>\n",
       "    .dataframe tbody tr th:only-of-type {\n",
       "        vertical-align: middle;\n",
       "    }\n",
       "\n",
       "    .dataframe tbody tr th {\n",
       "        vertical-align: top;\n",
       "    }\n",
       "\n",
       "    .dataframe thead th {\n",
       "        text-align: right;\n",
       "    }\n",
       "</style>\n",
       "<table border=\"1\" class=\"dataframe\">\n",
       "  <thead>\n",
       "    <tr style=\"text-align: right;\">\n",
       "      <th></th>\n",
       "      <th>age</th>\n",
       "      <th>workclass</th>\n",
       "      <th>fnlwgt</th>\n",
       "      <th>education</th>\n",
       "      <th>education.num</th>\n",
       "      <th>marital.status</th>\n",
       "      <th>occupation</th>\n",
       "      <th>relationship</th>\n",
       "      <th>race</th>\n",
       "      <th>sex</th>\n",
       "      <th>capital.gain</th>\n",
       "      <th>capital.loss</th>\n",
       "      <th>hours.per.week</th>\n",
       "      <th>native.country</th>\n",
       "      <th>target</th>\n",
       "    </tr>\n",
       "  </thead>\n",
       "  <tbody>\n",
       "    <tr>\n",
       "      <th>0</th>\n",
       "      <td>32</td>\n",
       "      <td>Private</td>\n",
       "      <td>309513</td>\n",
       "      <td>Assoc-acdm</td>\n",
       "      <td>12</td>\n",
       "      <td>Married-civ-spouse</td>\n",
       "      <td>Craft-repair</td>\n",
       "      <td>Husband</td>\n",
       "      <td>White</td>\n",
       "      <td>Male</td>\n",
       "      <td>0</td>\n",
       "      <td>0</td>\n",
       "      <td>40</td>\n",
       "      <td>United-States</td>\n",
       "      <td>0</td>\n",
       "    </tr>\n",
       "    <tr>\n",
       "      <th>1</th>\n",
       "      <td>33</td>\n",
       "      <td>Private</td>\n",
       "      <td>205469</td>\n",
       "      <td>Some-college</td>\n",
       "      <td>10</td>\n",
       "      <td>Married-civ-spouse</td>\n",
       "      <td>Exec-managerial</td>\n",
       "      <td>Husband</td>\n",
       "      <td>White</td>\n",
       "      <td>Male</td>\n",
       "      <td>0</td>\n",
       "      <td>0</td>\n",
       "      <td>40</td>\n",
       "      <td>United-States</td>\n",
       "      <td>1</td>\n",
       "    </tr>\n",
       "    <tr>\n",
       "      <th>2</th>\n",
       "      <td>46</td>\n",
       "      <td>Private</td>\n",
       "      <td>149949</td>\n",
       "      <td>Some-college</td>\n",
       "      <td>10</td>\n",
       "      <td>Married-civ-spouse</td>\n",
       "      <td>Craft-repair</td>\n",
       "      <td>Husband</td>\n",
       "      <td>White</td>\n",
       "      <td>Male</td>\n",
       "      <td>0</td>\n",
       "      <td>0</td>\n",
       "      <td>40</td>\n",
       "      <td>United-States</td>\n",
       "      <td>0</td>\n",
       "    </tr>\n",
       "    <tr>\n",
       "      <th>3</th>\n",
       "      <td>23</td>\n",
       "      <td>Private</td>\n",
       "      <td>193090</td>\n",
       "      <td>Bachelors</td>\n",
       "      <td>13</td>\n",
       "      <td>Never-married</td>\n",
       "      <td>Adm-clerical</td>\n",
       "      <td>Own-child</td>\n",
       "      <td>White</td>\n",
       "      <td>Female</td>\n",
       "      <td>0</td>\n",
       "      <td>0</td>\n",
       "      <td>30</td>\n",
       "      <td>United-States</td>\n",
       "      <td>0</td>\n",
       "    </tr>\n",
       "    <tr>\n",
       "      <th>4</th>\n",
       "      <td>55</td>\n",
       "      <td>Private</td>\n",
       "      <td>60193</td>\n",
       "      <td>HS-grad</td>\n",
       "      <td>9</td>\n",
       "      <td>Divorced</td>\n",
       "      <td>Adm-clerical</td>\n",
       "      <td>Not-in-family</td>\n",
       "      <td>White</td>\n",
       "      <td>Female</td>\n",
       "      <td>0</td>\n",
       "      <td>0</td>\n",
       "      <td>40</td>\n",
       "      <td>United-States</td>\n",
       "      <td>0</td>\n",
       "    </tr>\n",
       "  </tbody>\n",
       "</table>\n",
       "</div>"
      ],
      "text/plain": [
       "   age workclass  fnlwgt     education  education.num      marital.status  \\\n",
       "0   32   Private  309513    Assoc-acdm             12  Married-civ-spouse   \n",
       "1   33   Private  205469  Some-college             10  Married-civ-spouse   \n",
       "2   46   Private  149949  Some-college             10  Married-civ-spouse   \n",
       "3   23   Private  193090     Bachelors             13       Never-married   \n",
       "4   55   Private   60193       HS-grad              9            Divorced   \n",
       "\n",
       "        occupation   relationship   race     sex  capital.gain  capital.loss  \\\n",
       "0     Craft-repair        Husband  White    Male             0             0   \n",
       "1  Exec-managerial        Husband  White    Male             0             0   \n",
       "2     Craft-repair        Husband  White    Male             0             0   \n",
       "3     Adm-clerical      Own-child  White  Female             0             0   \n",
       "4     Adm-clerical  Not-in-family  White  Female             0             0   \n",
       "\n",
       "   hours.per.week native.country  target  \n",
       "0              40  United-States       0  \n",
       "1              40  United-States       1  \n",
       "2              40  United-States       0  \n",
       "3              30  United-States       0  \n",
       "4              40  United-States       0  "
      ]
     },
     "execution_count": 11,
     "metadata": {},
     "output_type": "execute_result"
    }
   ],
   "source": [
    "train = pd.read_csv('./Data/소득예측경진대회/train.csv')\n",
    "test = pd.read_csv('./Data/소득예측경진대회/test.csv')\n",
    "submission = pd.read_csv('./Data/소득예측경진대회/sample_submission.csv')\n",
    "\n",
    "train = train.drop(['id'], axis = 1)\n",
    "test = test.drop(['id'], axis = 1)\n",
    "\n",
    "train.head()"
   ]
  },
  {
   "cell_type": "code",
   "execution_count": 12,
   "id": "d10f7961",
   "metadata": {},
   "outputs": [],
   "source": [
    "train['workclass'] = train['workclass'].fillna('Private')\n",
    "train['occupation'] = train['occupation'].fillna('Exec-managerial')\n",
    "train['native.country'] = train['native.country'].fillna('United-States')"
   ]
  },
  {
   "cell_type": "code",
   "execution_count": 13,
   "id": "df2ae196",
   "metadata": {},
   "outputs": [],
   "source": [
    "X = train.drop(['target'], axis = 1)\n",
    "y = train['target']"
   ]
  },
  {
   "cell_type": "code",
   "execution_count": 14,
   "id": "2592c34c",
   "metadata": {},
   "outputs": [],
   "source": [
    "columns = ('workclass', 'education', 'marital.status', 'occupation', 'relationship', 'race', 'sex', 'native.country')\n",
    "\n",
    "for cols in columns:\n",
    "    le = LabelEncoder()\n",
    "    le.fit(list(X[cols]))\n",
    "    X[cols] = le.transform(list(X[cols]))\n",
    "    \n",
    "\n",
    "for cols in columns:\n",
    "    le = LabelEncoder()\n",
    "    le.fit(list(test[cols]))\n",
    "    test[cols] = le.transform(list(test[cols]))"
   ]
  },
  {
   "cell_type": "code",
   "execution_count": 15,
   "id": "7008b521",
   "metadata": {},
   "outputs": [
    {
     "name": "stdout",
     "output_type": "stream",
     "text": [
      "(13984, 14) (3496, 14)\n",
      "(13984,) (3496,)\n"
     ]
    }
   ],
   "source": [
    "x_train, x_test, y_train, y_test = train_test_split(X, y, test_size = .2, random_state = 123)\n",
    "\n",
    "print(x_train.shape, x_test.shape)\n",
    "print(y_train.shape, y_test.shape)"
   ]
  },
  {
   "cell_type": "code",
   "execution_count": 21,
   "id": "5050b2af",
   "metadata": {},
   "outputs": [
    {
     "data": {
      "text/plain": [
       "LGBMClassifier()"
      ]
     },
     "execution_count": 21,
     "metadata": {},
     "output_type": "execute_result"
    }
   ],
   "source": [
    "lgb = LGBMClassifier()\n",
    "lgb.fit(x_train, y_train)"
   ]
  },
  {
   "cell_type": "code",
   "execution_count": 38,
   "id": "0d59a91c",
   "metadata": {},
   "outputs": [
    {
     "name": "stdout",
     "output_type": "stream",
     "text": [
      "0.875\n"
     ]
    }
   ],
   "source": [
    "test_pred = lgb.predict(x_test)\n",
    "acc = accuracy_score(test_pred, y_test)\n",
    "print(acc)\n",
    "\n",
    "## 스케일링 전, 'x_test' 결과 : 0.875"
   ]
  },
  {
   "cell_type": "code",
   "execution_count": 22,
   "id": "cab07cf8",
   "metadata": {},
   "outputs": [],
   "source": [
    "pred = lgb.predict(test)"
   ]
  },
  {
   "cell_type": "code",
   "execution_count": 23,
   "id": "83687a3a",
   "metadata": {},
   "outputs": [
    {
     "data": {
      "text/plain": [
       "array([1, 0, 1, ..., 0, 0, 0], dtype=int64)"
      ]
     },
     "execution_count": 23,
     "metadata": {},
     "output_type": "execute_result"
    }
   ],
   "source": [
    "pred"
   ]
  },
  {
   "cell_type": "code",
   "execution_count": 26,
   "id": "a2c6cffa",
   "metadata": {},
   "outputs": [],
   "source": [
    "lgbc_submission = pd.DataFrame({'id':submission.id, 'target':pred})\n",
    "lgbc_submission.to_csv(\"lgbc_submission.csv\", index = False)"
   ]
  },
  {
   "cell_type": "code",
   "execution_count": null,
   "id": "8a6dcb7f",
   "metadata": {},
   "outputs": [],
   "source": []
  },
  {
   "cell_type": "code",
   "execution_count": null,
   "id": "ab993f70",
   "metadata": {},
   "outputs": [],
   "source": []
  },
  {
   "cell_type": "markdown",
   "id": "f7c3b781",
   "metadata": {},
   "source": [
    "## 정규화진행후 테스트"
   ]
  },
  {
   "cell_type": "code",
   "execution_count": 59,
   "id": "2a3e8d23",
   "metadata": {},
   "outputs": [
    {
     "name": "stdout",
     "output_type": "stream",
     "text": [
      "(13984, 14) (3496, 14)\n",
      "(13984,) (3496,)\n"
     ]
    }
   ],
   "source": [
    "# 1. StandardScaler\n",
    "\n",
    "std_scaler = StandardScaler()\n",
    "X = std_scaler.fit_transform(X)\n",
    "y = train['target']\n",
    "\n",
    "x_train, x_test, y_train, y_test = train_test_split(X, y, test_size = .2, random_state = 123)\n",
    "\n",
    "print(x_train.shape, x_test.shape)\n",
    "print(y_train.shape, y_test.shape)\n",
    "\n",
    "lgb = LGBMClassifier()\n",
    "lgb.fit(x_train, y_train)\n",
    "\n",
    "test = std_scaler.fit_transform(test)"
   ]
  },
  {
   "cell_type": "code",
   "execution_count": 61,
   "id": "63228861",
   "metadata": {},
   "outputs": [
    {
     "name": "stdout",
     "output_type": "stream",
     "text": [
      "0.8727116704805492\n"
     ]
    }
   ],
   "source": [
    "test_pred = lgb.predict(x_test)\n",
    "acc = accuracy_score(test_pred, y_test)\n",
    "print(acc)"
   ]
  },
  {
   "cell_type": "code",
   "execution_count": 60,
   "id": "4365f341",
   "metadata": {},
   "outputs": [],
   "source": [
    "pred = lgb.predict(test)\n",
    "lgbc_std_submission = pd.DataFrame({'id':submission.id, 'target':pred})\n",
    "lgbc_std_submission.to_csv(\"lgbc_std_submission.csv\", index = False)"
   ]
  },
  {
   "cell_type": "code",
   "execution_count": 62,
   "id": "1f768868",
   "metadata": {},
   "outputs": [
    {
     "name": "stdout",
     "output_type": "stream",
     "text": [
      "(13984, 14) (3496, 14)\n",
      "(13984,) (3496,)\n",
      "0.8727116704805492\n"
     ]
    }
   ],
   "source": [
    "# 2. MinMaxScaler\n",
    "\n",
    "mm_scaler = MinMaxScaler()\n",
    "X = std_scaler.fit_transform(X)\n",
    "y = train['target']\n",
    "\n",
    "x_train, x_test, y_train, y_test = train_test_split(X, y, test_size = .2, random_state = 123)\n",
    "\n",
    "print(x_train.shape, x_test.shape)\n",
    "print(y_train.shape, y_test.shape)\n",
    "\n",
    "lgb = LGBMClassifier()\n",
    "lgb.fit(x_train, y_train)\n",
    "\n",
    "test = std_scaler.fit_transform(test)\n",
    "\n",
    "test_pred = lgb.predict(x_test)\n",
    "acc = accuracy_score(test_pred, y_test)\n",
    "print(acc)\n",
    "\n",
    "pred = lgb.predict(test)\n",
    "lgbc_mm_submission = pd.DataFrame({'id':submission.id, 'target':pred})\n",
    "lgbc_mm_submission.to_csv(\"lgbc_mm_submission.csv\", index = False)"
   ]
  },
  {
   "cell_type": "code",
   "execution_count": 63,
   "id": "e3505060",
   "metadata": {},
   "outputs": [
    {
     "name": "stdout",
     "output_type": "stream",
     "text": [
      "(13984, 14) (3496, 14)\n",
      "(13984,) (3496,)\n",
      "0.8778604118993135\n"
     ]
    }
   ],
   "source": [
    "# 3. RobustScaler\n",
    "\n",
    "R_scaler = RobustScaler()\n",
    "X = R_scaler.fit_transform(X)\n",
    "y = train['target']\n",
    "\n",
    "x_train, x_test, y_train, y_test = train_test_split(X, y, test_size = .2, random_state = 123)\n",
    "\n",
    "print(x_train.shape, x_test.shape)\n",
    "print(y_train.shape, y_test.shape)\n",
    "\n",
    "lgb = LGBMClassifier()\n",
    "lgb.fit(x_train, y_train)\n",
    "\n",
    "test = std_scaler.fit_transform(test)\n",
    "\n",
    "test_pred = lgb.predict(x_test)\n",
    "acc = accuracy_score(test_pred, y_test)\n",
    "print(acc)\n",
    "\n",
    "pred = lgb.predict(test)\n",
    "lgbc_rob_submission = pd.DataFrame({'id':submission.id, 'target':pred})\n",
    "lgbc_rob_submission.to_csv(\"lgbc_rob_submission.csv\", index = False)"
   ]
  },
  {
   "cell_type": "code",
   "execution_count": null,
   "id": "2719025a",
   "metadata": {},
   "outputs": [],
   "source": []
  },
  {
   "cell_type": "markdown",
   "id": "64b39959",
   "metadata": {},
   "source": [
    "### 결과\n",
    "- 모든 scaling방법동원했으나 점수가 오히려 떨어짐\n",
    "- Feature Engineering 필요해보임"
   ]
  },
  {
   "cell_type": "code",
   "execution_count": null,
   "id": "f1e117f7",
   "metadata": {},
   "outputs": [],
   "source": []
  }
 ],
 "metadata": {
  "kernelspec": {
   "display_name": "Python 3",
   "language": "python",
   "name": "python3"
  },
  "language_info": {
   "codemirror_mode": {
    "name": "ipython",
    "version": 3
   },
   "file_extension": ".py",
   "mimetype": "text/x-python",
   "name": "python",
   "nbconvert_exporter": "python",
   "pygments_lexer": "ipython3",
   "version": "3.8.8"
  }
 },
 "nbformat": 4,
 "nbformat_minor": 5
}
